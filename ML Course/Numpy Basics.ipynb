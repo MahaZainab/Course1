{
  "nbformat": 4,
  "nbformat_minor": 0,
  "metadata": {
    "colab": {
      "provenance": []
    },
    "kernelspec": {
      "name": "python3",
      "display_name": "Python 3"
    },
    "language_info": {
      "name": "python"
    }
  },
  "cells": [
    {
      "cell_type": "code",
      "source": [
        "import numpy as np"
      ],
      "metadata": {
        "id": "n0UQNWRAE3lb"
      },
      "execution_count": null,
      "outputs": []
    },
    {
      "cell_type": "markdown",
      "source": [
        "Data is collected in many different formats from numbers to images, from categories to sound waves. However, we need the data represented with numbers to be able analyze it on computers. Machine learning and deep learning models are data-hungry. The performance of them is highly dependent on the amount of data. Thus, we tend to collect as much data as possible in order to build a robust and accurate model. As the amount of data increases, the operations done with scalars start to be inefficient. We need vectorized or matrix operations to make computations efficiently. That’s where linear algebra comes into play.\n",
        "Linear algebra is one of the most important topics in data science domain. In this post, we will cover some basic terms in linear algebra and go through examples using NumPy, a scientific computing library for Python.\n",
        "\n",
        "There are different types of objects (or structures) in linear algebra:\n",
        "\n",
        "Scalar: Single number\n",
        "Vector: Array of numbers\n",
        "Matrix: 2-dimensional array of numbers\n",
        "Tensor: N-dimensional array of numbers where n > **2**"
      ],
      "metadata": {
        "id": "8KSd6-cJFaJR"
      }
    },
    {
      "cell_type": "code",
      "source": [
        "# A vector that has 4 ELEMENT\n",
        "v = np.array([1, 2, 3, 4])\n",
        "v"
      ],
      "metadata": {
        "colab": {
          "base_uri": "https://localhost:8080/"
        },
        "id": "KJ6BNmAgFKPB",
        "outputId": "87767018-c446-439d-e8c7-d65618db9771"
      },
      "execution_count": null,
      "outputs": [
        {
          "output_type": "execute_result",
          "data": {
            "text/plain": [
              "array([1, 2, 3, 4])"
            ]
          },
          "metadata": {},
          "execution_count": 2
        }
      ]
    },
    {
      "cell_type": "markdown",
      "source": [
        "A 2x4 matrix:"
      ],
      "metadata": {
        "id": "M8ErRValFjeM"
      }
    },
    {
      "cell_type": "code",
      "execution_count": null,
      "metadata": {
        "colab": {
          "base_uri": "https://localhost:8080/"
        },
        "id": "e_vDHeYTEw9W",
        "outputId": "56284323-35cb-44a8-8771-b955f5363d76"
      },
      "outputs": [
        {
          "output_type": "execute_result",
          "data": {
            "text/plain": [
              "array([[1, 2, 3, 4],\n",
              "       [5, 6, 7, 8]])"
            ]
          },
          "metadata": {},
          "execution_count": 3
        }
      ],
      "source": [
        "A = np.array([[1, 2, 3, 4],[5, 6, 7, 8]])\n",
        "A"
      ]
    },
    {
      "cell_type": "code",
      "source": [
        "A.shape"
      ],
      "metadata": {
        "colab": {
          "base_uri": "https://localhost:8080/"
        },
        "id": "aJYnFTiJE6YQ",
        "outputId": "08cb7a35-7cc2-427f-e6b2-b04d10b7b128"
      },
      "execution_count": null,
      "outputs": [
        {
          "output_type": "execute_result",
          "data": {
            "text/plain": [
              "(2, 4)"
            ]
          },
          "metadata": {},
          "execution_count": 4
        }
      ]
    },
    {
      "cell_type": "markdown",
      "source": [
        "A 2x2x4 tensor:"
      ],
      "metadata": {
        "id": "_WvLEe-xFh6n"
      }
    },
    {
      "cell_type": "code",
      "source": [
        "T = np.array([[[1, 2, 3, 4],[5, 6, 7, 8]],[[10, 11, 12, 13],[14, 15, 16, 17]]])\n",
        "T"
      ],
      "metadata": {
        "colab": {
          "base_uri": "https://localhost:8080/"
        },
        "id": "ztocwP9-E880",
        "outputId": "d8cad40e-d007-4524-feb1-ad85eebaec3e"
      },
      "execution_count": null,
      "outputs": [
        {
          "output_type": "execute_result",
          "data": {
            "text/plain": [
              "array([[[ 1,  2,  3,  4],\n",
              "        [ 5,  6,  7,  8]],\n",
              "\n",
              "       [[10, 11, 12, 13],\n",
              "        [14, 15, 16, 17]]])"
            ]
          },
          "metadata": {},
          "execution_count": 5
        }
      ]
    },
    {
      "cell_type": "code",
      "source": [
        "T.shape"
      ],
      "metadata": {
        "colab": {
          "base_uri": "https://localhost:8080/"
        },
        "id": "oEhspGuJGpYr",
        "outputId": "3983a57c-512f-4de8-c451-f06552054829"
      },
      "execution_count": null,
      "outputs": [
        {
          "output_type": "execute_result",
          "data": {
            "text/plain": [
              "(2, 2, 4)"
            ]
          },
          "metadata": {},
          "execution_count": 6
        }
      ]
    },
    {
      "cell_type": "markdown",
      "source": [
        "In terms of numpy representations, vector is 1-D array, matrix is 2-D array, and tensor is n-D array (n>2):\n",
        "![image.png](data:image/png;base64,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)"
      ],
      "metadata": {
        "id": "sx_ZTXluGyyJ"
      }
    },
    {
      "cell_type": "code",
      "source": [
        "T2 = np.random.randint(10, size = (2, 2, 2, 2))"
      ],
      "metadata": {
        "id": "v54veXdQGwbj"
      },
      "execution_count": null,
      "outputs": []
    },
    {
      "cell_type": "code",
      "source": [
        "T2.shape"
      ],
      "metadata": {
        "colab": {
          "base_uri": "https://localhost:8080/"
        },
        "id": "VPEVpAXoH1Tm",
        "outputId": "71693c52-31a7-4656-c6dc-efac0477235f"
      },
      "execution_count": null,
      "outputs": [
        {
          "output_type": "execute_result",
          "data": {
            "text/plain": [
              "(2, 2, 2, 2)"
            ]
          },
          "metadata": {},
          "execution_count": 8
        }
      ]
    },
    {
      "cell_type": "code",
      "source": [
        "T2.size"
      ],
      "metadata": {
        "colab": {
          "base_uri": "https://localhost:8080/"
        },
        "id": "S7JLVnRZH4ql",
        "outputId": "805cb5a2-bcfb-467e-b726-7d73606670b4"
      },
      "execution_count": null,
      "outputs": [
        {
          "output_type": "execute_result",
          "data": {
            "text/plain": [
              "16"
            ]
          },
          "metadata": {},
          "execution_count": 9
        }
      ]
    },
    {
      "cell_type": "markdown",
      "source": [],
      "metadata": {
        "id": "2o0HFY0LH-bX"
      }
    },
    {
      "cell_type": "markdown",
      "source": [
        "**The total of an array is the product of sizes in each dimension. The printed version of T2:**"
      ],
      "metadata": {
        "id": "pS3iAv3XIIge"
      }
    },
    {
      "cell_type": "code",
      "source": [
        "T2"
      ],
      "metadata": {
        "colab": {
          "base_uri": "https://localhost:8080/"
        },
        "id": "IeOCOaftH3hf",
        "outputId": "4f73ea9d-e405-450e-93ed-3394103ae7e5"
      },
      "execution_count": null,
      "outputs": [
        {
          "output_type": "execute_result",
          "data": {
            "text/plain": [
              "array([[[[7, 6],\n",
              "         [6, 8]],\n",
              "\n",
              "        [[9, 1],\n",
              "         [6, 5]]],\n",
              "\n",
              "\n",
              "       [[[9, 1],\n",
              "         [8, 8]],\n",
              "\n",
              "        [[7, 0],\n",
              "         [8, 8]]]])"
            ]
          },
          "metadata": {},
          "execution_count": 10
        }
      ]
    },
    {
      "cell_type": "markdown",
      "source": [
        "We have covered the basic structures. Now it is time to discuss basic operations that can be done on these structures.\n",
        "\n",
        "**Vector Operations**\n",
        "When a vector is multiplied by a scalar, each element of the vector is multiplied with the scalar:"
      ],
      "metadata": {
        "id": "yWNK1RyQIjmj"
      }
    },
    {
      "cell_type": "code",
      "source": [
        "#  python array\n",
        "array_1 = ([1, 2, 3, 4])\n",
        "array_1*2"
      ],
      "metadata": {
        "colab": {
          "base_uri": "https://localhost:8080/"
        },
        "id": "1utNSDaTIWYL",
        "outputId": "5fe410ff-e313-4060-860a-35f9b41b9dbe"
      },
      "execution_count": null,
      "outputs": [
        {
          "output_type": "execute_result",
          "data": {
            "text/plain": [
              "[1, 2, 3, 4, 1, 2, 3, 4]"
            ]
          },
          "metadata": {},
          "execution_count": 11
        }
      ]
    },
    {
      "cell_type": "code",
      "source": [
        "# numpy array\n",
        "v1 = np.array([1, 2, 3, 4])\n",
        "v1*2"
      ],
      "metadata": {
        "colab": {
          "base_uri": "https://localhost:8080/"
        },
        "id": "5xQ4QJhfJCX0",
        "outputId": "94add6c3-cbf9-42bd-af84-7978e573b29d"
      },
      "execution_count": null,
      "outputs": [
        {
          "output_type": "execute_result",
          "data": {
            "text/plain": [
              "array([2, 4, 6, 8])"
            ]
          },
          "metadata": {},
          "execution_count": 12
        }
      ]
    },
    {
      "cell_type": "markdown",
      "source": [
        "Another common operation is dot product. The dot product of two vectors is the sum of the products of elements with regards to position. The first element of one vector is multiplied by the first element of the second vector and so on. The sum of these products is the dot product which can be done with np.dot() function."
      ],
      "metadata": {
        "id": "LPdyA3QfJmAR"
      }
    },
    {
      "cell_type": "code",
      "source": [
        "v1 = np.array([1, 2, 3])\n",
        "v2 = np.array([1, 2, 1])\n",
        "np.dot(v1, v2)"
      ],
      "metadata": {
        "colab": {
          "base_uri": "https://localhost:8080/"
        },
        "id": "n9-eMPMNJsqJ",
        "outputId": "671e1678-865e-4606-8dfe-a76c27505fd3"
      },
      "execution_count": null,
      "outputs": [
        {
          "output_type": "execute_result",
          "data": {
            "text/plain": [
              "8"
            ]
          },
          "metadata": {},
          "execution_count": 13
        }
      ]
    },
    {
      "cell_type": "markdown",
      "source": [
        "Dot product is an essential part in matrix multiplication that we will discuss later in this post.\n",
        "\n",
        "**Element-wise summation and subtraction on vectors are done with standard math operations.**"
      ],
      "metadata": {
        "id": "Wwd1WpIRKupb"
      }
    },
    {
      "cell_type": "code",
      "source": [
        "v1 = np.array([1, 2, 3])\n",
        "v2 = np.array([1, 2, 1])\n",
        "print(\"v1 + v2 is {}\".format(v1 + v2))\n",
        "print(\"v1 - v2 is {}\".format(v1 - v2))"
      ],
      "metadata": {
        "colab": {
          "base_uri": "https://localhost:8080/"
        },
        "id": "QMP1cVU_K0Uh",
        "outputId": "c2fbaf0e-42e3-4bb8-a8e2-2de23d062461"
      },
      "execution_count": null,
      "outputs": [
        {
          "output_type": "stream",
          "name": "stdout",
          "text": [
            "v1 + v2 is [2 4 4]\n",
            "v1 - v2 is [0 0 2]\n"
          ]
        }
      ]
    },
    {
      "cell_type": "markdown",
      "source": [
        "Matrix Operations\n",
        "Matrix multiplication is a widely-used operation in linear algebra. When solving a system of linear equations, matrix multiplication comes in very handy. In complex machine learning and deep learning models, many matrix multiplications are done under the hood. The optimization algoritms are performing numerous matrix multiplications to find model parameters. Thus, it is a must-know operation.\n",
        "Before we dive into matrix multiplication, it is better to understand some properties of matrices. A matrix is a 2-dimensional array. If the number of elements (size) in both dimensions are the same, then we have a square matrix."
      ],
      "metadata": {
        "id": "7QB6p6EcLfW8"
      }
    },
    {
      "cell_type": "code",
      "source": [
        "A = np.random.randint(5, size = (3,3))\n",
        "A"
      ],
      "metadata": {
        "colab": {
          "base_uri": "https://localhost:8080/"
        },
        "id": "Oe7oIXfmLjjf",
        "outputId": "5cfe8994-0e92-4b68-8cd8-cf63f2d0edd6"
      },
      "execution_count": null,
      "outputs": [
        {
          "output_type": "execute_result",
          "data": {
            "text/plain": [
              "array([[0, 1, 4],\n",
              "       [0, 2, 2],\n",
              "       [4, 2, 0]])"
            ]
          },
          "metadata": {},
          "execution_count": 15
        }
      ]
    },
    {
      "cell_type": "markdown",
      "source": [
        "We define the shape of a matrix in terms of the number of rows and columns. For instance, matrix A below has 3 rows and 4 columns. The indices start from zero so we can access the first row by A[0], and the first column by A[:,0]. A specific element can be accessed by passing both row and column indices. For instance, A[1,1] gives us the element at the second row and second column."
      ],
      "metadata": {
        "id": "qEsTGOiPMoF9"
      }
    },
    {
      "cell_type": "code",
      "source": [
        "A"
      ],
      "metadata": {
        "colab": {
          "base_uri": "https://localhost:8080/"
        },
        "id": "if4CEBu1MNHq",
        "outputId": "bf9d1628-bae1-408f-c8eb-b423e7abf6eb"
      },
      "execution_count": null,
      "outputs": [
        {
          "output_type": "execute_result",
          "data": {
            "text/plain": [
              "array([[0, 1, 4],\n",
              "       [0, 2, 2],\n",
              "       [4, 2, 0]])"
            ]
          },
          "metadata": {},
          "execution_count": 16
        }
      ]
    },
    {
      "cell_type": "code",
      "source": [
        "# something about index\n",
        "A[0, 2]"
      ],
      "metadata": {
        "colab": {
          "base_uri": "https://localhost:8080/"
        },
        "id": "t-bFYAI0MtjB",
        "outputId": "989cc74d-2ae4-4c06-e9e8-4a3f224ccd93"
      },
      "execution_count": null,
      "outputs": [
        {
          "output_type": "execute_result",
          "data": {
            "text/plain": [
              "4"
            ]
          },
          "metadata": {},
          "execution_count": 17
        }
      ]
    }
  ]
}